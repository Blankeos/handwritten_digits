{
 "cells": [
  {
   "cell_type": "code",
   "execution_count": 123,
   "metadata": {},
   "outputs": [],
   "source": [
    "# essentials\n",
    "import numpy as np\n",
    "import matplotlib.pyplot as plt\n",
    "\n",
    "# dataset\n",
    "from keras.datasets import mnist\n",
    "\n",
    "# building models\n",
    "import tensorflow as tf\n",
    "import keras\n",
    "from keras.models import Sequential\n",
    "from keras.layers import Dense, Conv2D, MaxPool2D, Flatten, Dropout\n",
    "from tensorflow.keras.optimizers import Adam"
   ]
  },
  {
   "cell_type": "markdown",
   "metadata": {},
   "source": [
    "### Import dataset"
   ]
  },
  {
   "cell_type": "code",
   "execution_count": 112,
   "metadata": {},
   "outputs": [
    {
     "data": {
      "text/plain": [
       "((60000, 28, 28), (60000,), (10000, 28, 28), (10000,))"
      ]
     },
     "execution_count": 112,
     "metadata": {},
     "output_type": "execute_result"
    }
   ],
   "source": [
    "(X_train, y_train), (X_test, y_test) = mnist.load_data()\n",
    "\n",
    "X_train.shape,  y_train.shape, X_test.shape, y_test.shape"
   ]
  },
  {
   "cell_type": "code",
   "execution_count": 113,
   "metadata": {},
   "outputs": [],
   "source": [
    "# Display a specific image\n",
    "def plot_input_image(i):\n",
    "    plt.imshow(X_train[i], cmap='binary')\n",
    "    plt.title(f\"Label: {y_train[i]}\")\n",
    "    plt.show()"
   ]
  },
  {
   "cell_type": "markdown",
   "metadata": {},
   "source": [
    "### Preprocess images"
   ]
  },
  {
   "cell_type": "code",
   "execution_count": 114,
   "metadata": {},
   "outputs": [],
   "source": [
    "# Normalize and reshape features\n",
    "X_train = X_train.astype(np.float32)/255\n",
    "X_test = X_test.astype(np.float32)/255\n",
    "\n",
    "X_train = np.expand_dims(X_train, -1)\n",
    "X_test = np.expand_dims(X_test, -1)\n",
    "\n",
    "input_shape = X_train[0].shape"
   ]
  },
  {
   "cell_type": "code",
   "execution_count": 115,
   "metadata": {},
   "outputs": [],
   "source": [
    "# Normalize labels/targets\n",
    "y_train = tf.keras.utils.to_categorical(y_train)\n",
    "y_test = tf.keras.utils.to_categorical(y_test)"
   ]
  },
  {
   "cell_type": "markdown",
   "metadata": {},
   "source": [
    "### 🤖 Building the model"
   ]
  },
  {
   "cell_type": "code",
   "execution_count": 116,
   "metadata": {},
   "outputs": [
    {
     "name": "stdout",
     "output_type": "stream",
     "text": [
      "Model: \"sequential_12\"\n",
      "_________________________________________________________________\n",
      " Layer (type)                Output Shape              Param #   \n",
      "=================================================================\n",
      " conv2d_17 (Conv2D)          (None, 26, 26, 32)        320       \n",
      "                                                                 \n",
      " max_pooling2d_15 (MaxPoolin  (None, 13, 13, 32)       0         \n",
      " g2D)                                                            \n",
      "                                                                 \n",
      " conv2d_18 (Conv2D)          (None, 11, 11, 64)        18496     \n",
      "                                                                 \n",
      " max_pooling2d_16 (MaxPoolin  (None, 5, 5, 64)         0         \n",
      " g2D)                                                            \n",
      "                                                                 \n",
      " flatten_6 (Flatten)         (None, 1600)              0         \n",
      "                                                                 \n",
      " dropout_6 (Dropout)         (None, 1600)              0         \n",
      "                                                                 \n",
      " dense_6 (Dense)             (None, 10)                16010     \n",
      "                                                                 \n",
      "=================================================================\n",
      "Total params: 34,826\n",
      "Trainable params: 34,826\n",
      "Non-trainable params: 0\n",
      "_________________________________________________________________\n"
     ]
    }
   ],
   "source": [
    "model = Sequential()\n",
    "\n",
    "model.add(Conv2D(32, (3,3), input_shape=input_shape, activation='relu'))\n",
    "model.add(MaxPool2D((2,2)))\n",
    "\n",
    "model.add(Conv2D(64, (3,3), activation='relu'))\n",
    "model.add(MaxPool2D((2,2)))\n",
    "\n",
    "model.add(Flatten())\n",
    "\n",
    "model.add(Dropout(0.25))\n",
    "\n",
    "model.add(Dense(10, activation='softmax'))\n",
    "\n",
    "model.summary()"
   ]
  },
  {
   "cell_type": "code",
   "execution_count": 117,
   "metadata": {},
   "outputs": [],
   "source": [
    "# Compiling the model\n",
    "model.compile(optimizer='adam', loss='categorical_crossentropy', metrics=['accuracy'])"
   ]
  },
  {
   "cell_type": "code",
   "execution_count": 118,
   "metadata": {},
   "outputs": [],
   "source": [
    "# Callbacks\n",
    "\n",
    "from keras.callbacks import EarlyStopping, ModelCheckpoint\n",
    "\n",
    "# Earlystopping\n",
    "\n",
    "es = EarlyStopping(monitor='val_accuracy', min_delta=0.01, patience=4, verbose=1)\n",
    "\n",
    "# Model check point\n",
    "\n",
    "mc = ModelCheckpoint('./bestmodel.h5', monitor='val_accuracy', verbose=1, save_best_only=True)\n",
    "\n",
    "cb = [es, mc]"
   ]
  },
  {
   "cell_type": "code",
   "execution_count": 119,
   "metadata": {},
   "outputs": [
    {
     "name": "stdout",
     "output_type": "stream",
     "text": [
      "Epoch 1/5\n",
      "1313/1313 [==============================] - ETA: 0s - loss: 0.2164 - accuracy: 0.9340\n",
      "Epoch 00001: val_accuracy improved from -inf to 0.97517, saving model to .\\bestmodel.h5\n",
      "1313/1313 [==============================] - 55s 41ms/step - loss: 0.2164 - accuracy: 0.9340 - val_loss: 0.0853 - val_accuracy: 0.9752\n",
      "Epoch 2/5\n",
      "1313/1313 [==============================] - ETA: 0s - loss: 0.0749 - accuracy: 0.9769\n",
      "Epoch 00002: val_accuracy improved from 0.97517 to 0.97694, saving model to .\\bestmodel.h5\n",
      "1313/1313 [==============================] - 52s 40ms/step - loss: 0.0749 - accuracy: 0.9769 - val_loss: 0.0719 - val_accuracy: 0.9769\n",
      "Epoch 3/5\n",
      "1312/1313 [============================>.] - ETA: 0s - loss: 0.0552 - accuracy: 0.9823\n",
      "Epoch 00003: val_accuracy improved from 0.97694 to 0.98117, saving model to .\\bestmodel.h5\n",
      "1313/1313 [==============================] - 53s 41ms/step - loss: 0.0552 - accuracy: 0.9823 - val_loss: 0.0597 - val_accuracy: 0.9812\n",
      "Epoch 4/5\n",
      "1313/1313 [==============================] - ETA: 0s - loss: 0.0437 - accuracy: 0.9859 ETA: 7s - loss: 0.0433 -  - ETA: 6s - loss: 0.0434 - accuracy: 0.98 - - ETA: 0s - loss:\n",
      "Epoch 00004: val_accuracy improved from 0.98117 to 0.98617, saving model to .\\bestmodel.h5\n",
      "1313/1313 [==============================] - 58s 44ms/step - loss: 0.0437 - accuracy: 0.9859 - val_loss: 0.0464 - val_accuracy: 0.9862\n",
      "Epoch 5/5\n",
      "1313/1313 [==============================] - ETA: 0s - loss: 0.0391 - accuracy: 0.9880\n",
      "Epoch 00005: val_accuracy improved from 0.98617 to 0.98711, saving model to .\\bestmodel.h5\n",
      "1313/1313 [==============================] - 54s 41ms/step - loss: 0.0391 - accuracy: 0.9880 - val_loss: 0.0449 - val_accuracy: 0.9871\n"
     ]
    }
   ],
   "source": [
    "history = model.fit(X_train, y_train, epochs=5, validation_split=0.3, callbacks=cb)"
   ]
  },
  {
   "cell_type": "code",
   "execution_count": 124,
   "metadata": {},
   "outputs": [],
   "source": [
    "model_S = keras.models.load_model('D://Repositories//handwritten_digits//bestmodel.h5')"
   ]
  },
  {
   "cell_type": "code",
   "execution_count": 126,
   "metadata": {},
   "outputs": [
    {
     "name": "stdout",
     "output_type": "stream",
     "text": [
      "313/313 [==============================] - 4s 13ms/step - loss: 0.0367 - accuracy: 0.9876\n",
      " The model Accuracy is 0.9876000285148621\n"
     ]
    }
   ],
   "source": [
    "score = model_S.evaluate(X_test, y_test)\n",
    "\n",
    "print(f\" The model Accuracy is {score[1]}\")"
   ]
  }
 ],
 "metadata": {
  "interpreter": {
   "hash": "f0273304a4bb4e3bff5bbaa7023c5c94de40f149b08962185ea0b0391c3f5e85"
  },
  "kernelspec": {
   "display_name": "Python 3.9.6 64-bit ('env': venv)",
   "language": "python",
   "name": "python3"
  },
  "language_info": {
   "codemirror_mode": {
    "name": "ipython",
    "version": 3
   },
   "file_extension": ".py",
   "mimetype": "text/x-python",
   "name": "python",
   "nbconvert_exporter": "python",
   "pygments_lexer": "ipython3",
   "version": "3.9.6"
  },
  "orig_nbformat": 4
 },
 "nbformat": 4,
 "nbformat_minor": 2
}
